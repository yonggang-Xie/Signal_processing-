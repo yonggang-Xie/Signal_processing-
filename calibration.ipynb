{
 "cells": [
  {
   "cell_type": "code",
   "execution_count": null,
   "metadata": {},
   "outputs": [],
   "source": [
    "import csv\n",
    "import soundfile as sf\n",
    "import math"
   ]
  },
  {
   "cell_type": "code",
   "execution_count": null,
   "metadata": {},
   "outputs": [],
   "source": [
    "#build a dictionary from a csv file.\n",
    "result={}\n",
    "index=0\n",
    "with open('E:/yonggang/ambient sound.csv',newline='') as csvfile:\n",
    "        reader = csv.reader(csvfile)\n",
    "        for rows in reader:\n",
    "            #print(rows[0],rows[1])\n",
    "            amplification=rows[0]\n",
    "            result[index] = amplification\n",
    "            index=index+1\n",
    "print(len(result))\n",
    "\n",
    "#for i in range (0,len(result)):\n",
    "    #index_num=i\n",
    "    #print(result[index_num])"
   ]
  },
  {
   "cell_type": "code",
   "execution_count": null,
   "metadata": {},
   "outputs": [],
   "source": [
    "import os\n",
    "import glob\n",
    "import csv\n",
    "import soundfile as sf\n",
    "\n",
    "def calibration(csv_path,read,save_foler):\n",
    "    #read the files and wirte a list \n",
    "    files=glob.glob(read)\n",
    "    \n",
    "    \n",
    "    result={} \n",
    "    index=0\n",
    "   \n",
    "    #retrieve the amplifications from the csv file and index them\n",
    "    with open(csv_path,newline='') as csvfile:\n",
    "        reader = csv.reader(csvfile)\n",
    "        for rows in reader:\n",
    "            #print(rows[0],rows[1])\n",
    "            amplification=rows[0]\n",
    "            result[index] = amplification\n",
    "            index=index+1\n",
    "\n",
    "    amp_index=0\n",
    "\n",
    "    for file in files:\n",
    "        x,sr=sf.read(file)\n",
    "    \n",
    "        x=x*float(result[amp_index])\n",
    "    \n",
    "        print(file,result[amp_index])\n",
    "    \n",
    "        amp_index+=1\n",
    "    \n",
    "        savepath = save_foler+ '/'+file\n",
    "   \n",
    "        #sf.write(savepath,x,sr)"
   ]
  },
  {
   "cell_type": "code",
   "execution_count": null,
   "metadata": {},
   "outputs": [],
   "source": [
    "calibration('E:/yonggang/calibration data/wind files.csv','*.wav','E:/yonggang/soundtracks/calibrated wind files')"
   ]
  },
  {
   "cell_type": "code",
   "execution_count": null,
   "metadata": {},
   "outputs": [],
   "source": [
    "for i in range (1,134):\n",
    "    \n",
    "    read_path1=f'E:/yonggang/ambient sound/audio{i:04d}firsthalf.wav'\n",
    "    read_path2=f'E:/yonggang/ambient sound/audio{i:04d}random0001.wav'\n",
    "    read_path3=f'E:/yonggang/ambient sound/audio{i:04d}random0002.wav'\n",
    "    read_path4=f'E:/yonggang/ambient sound/audio{i:04d}secondhalf.wav'\n",
    "    \n",
    "    write_path1=f'E:/yonggang/calibrated files/ambient sound/audio{i:04d}firsthalf.wav'\n",
    "    write_path2=f'E:/yonggang/calibrated files/ambient sound/audio{i:04d}random0001.wav'\n",
    "    write_path3=f'E:/yonggang/calibrated files/ambient sound/audio{i:04d}random0002.wav'\n",
    "    write_path4=f'E:/yonggang/calibrated files/ambient sound/audio{i:04d}secondhalf.wav'\n",
    "    \n",
    "    x1,sr=sf.read(read_path1)\n",
    "    index1=4*i-4\n",
    "    x1=float(result[index1])*x1\n",
    "    \n",
    "    x2,sr=sf.read(read_path2)\n",
    "    index2=4*i-3\n",
    "    x2=float(result[index2])*x2\n",
    "    \n",
    "    x3,sr=sf.read(read_path3)\n",
    "    index3=4*i-2\n",
    "    x3=float(result[index3])*x3\n",
    "    \n",
    "    x4,sr=sf.read(read_path4)\n",
    "    index4=4*i-1\n",
    "    x4=float(result[index4])*x4\n",
    "    \n",
    "    print(float(result[index1]),read_path1,\" \\n\",result[index2],read_path2,\" \\n\",float(result[index3]),read_path3,\" \\n\",result[index4],read_path4)\n",
    "    \n",
    "    sf.write(write_path1,x1,sr)\n",
    "    sf.write(write_path2,x2,sr)\n",
    "    sf.write(write_path3,x3,sr)\n",
    "    sf.write(write_path4,x4,sr)"
   ]
  },
  {
   "cell_type": "code",
   "execution_count": null,
   "metadata": {},
   "outputs": [],
   "source": [
    "for i in range (0,266):\n",
    "    print(result[i])"
   ]
  },
  {
   "cell_type": "code",
   "execution_count": null,
   "metadata": {},
   "outputs": [],
   "source": [
    "for i in range (1,134):\n",
    "    \n",
    "    read_path1=f'E:/yonggang/really corrected/corrected halves/audio{i:04d}firstf.wav'\n",
    "    read_path2=f'E:/yonggang/really corrected/corrected halves/audio{i:04d}secondhalf.wav'\n",
    "    \n",
    "    write_path1=f'E:/yonggang/calibrated 2/halves_calibrated/audio{i:04d}firsthalf.wav'\n",
    "    write_path2=f'E:/yonggang/calibrated 2/halves_calibrated/audio{i:04d}secondhalf.wav'\n",
    "    \n",
    "    x1,sr=sf.read(read_path1)\n",
    "    index1=2*i-2\n",
    "    x1=float(result[index1])*x1\n",
    "    \n",
    "    x2,sr=sf.read(read_path2)\n",
    "    index2=2*i-1\n",
    "    x2=float(result[index2])*x2\n",
    "    \n",
    "    print(float(result[index1]),read_path1,\" \\n\",result[index2],read_path2)\n",
    "    \n",
    "    sf.write(write_path1,x1,sr)\n",
    "    sf.write(write_path2,x2,sr)    \n",
    "         \n",
    "    \n",
    "   "
   ]
  },
  {
   "cell_type": "code",
   "execution_count": null,
   "metadata": {},
   "outputs": [],
   "source": []
  },
  {
   "cell_type": "code",
   "execution_count": null,
   "metadata": {},
   "outputs": [],
   "source": []
  }
 ],
 "metadata": {
  "kernelspec": {
   "display_name": "Python 3",
   "language": "python",
   "name": "python3"
  },
  "language_info": {
   "codemirror_mode": {
    "name": "ipython",
    "version": 3
   },
   "file_extension": ".py",
   "mimetype": "text/x-python",
   "name": "python",
   "nbconvert_exporter": "python",
   "pygments_lexer": "ipython3",
   "version": "3.7.6"
  }
 },
 "nbformat": 4,
 "nbformat_minor": 4
}
